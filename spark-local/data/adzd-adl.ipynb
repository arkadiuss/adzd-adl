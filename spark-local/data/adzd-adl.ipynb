{
 "cells": [
  {
   "cell_type": "code",
   "execution_count": 1,
   "id": "333cc416-6f2f-4d2a-8140-9def205a2493",
   "metadata": {},
   "outputs": [
    {
     "name": "stderr",
     "output_type": "stream",
     "text": [
      "WARNING: An illegal reflective access operation has occurred\n",
      "WARNING: Illegal reflective access by org.apache.spark.unsafe.Platform (file:/usr/local/spark-3.2.0-bin-hadoop3.2/jars/spark-unsafe_2.12-3.2.0.jar) to constructor java.nio.DirectByteBuffer(long,int)\n",
      "WARNING: Please consider reporting this to the maintainers of org.apache.spark.unsafe.Platform\n",
      "WARNING: Use --illegal-access=warn to enable warnings of further illegal reflective access operations\n",
      "WARNING: All illegal access operations will be denied in a future release\n",
      "Ivy Default Cache set to: /home/jovyan/.ivy2/cache\n",
      "The jars for the packages stored in: /home/jovyan/.ivy2/jars\n",
      "org.apache.hadoop#hadoop-azure added as a dependency\n"
     ]
    },
    {
     "name": "stdout",
     "output_type": "stream",
     "text": [
      ":: loading settings :: url = jar:file:/usr/local/spark-3.2.0-bin-hadoop3.2/jars/ivy-2.5.0.jar!/org/apache/ivy/core/settings/ivysettings.xml\n"
     ]
    },
    {
     "name": "stderr",
     "output_type": "stream",
     "text": [
      ":: resolving dependencies :: org.apache.spark#spark-submit-parent-7a4903a6-7253-409b-a20e-69332ee7eac1;1.0\n",
      "\tconfs: [default]\n",
      "\tfound org.apache.hadoop#hadoop-azure;3.3.1 in central\n",
      "\tfound org.apache.httpcomponents#httpclient;4.5.13 in central\n",
      "\tfound org.apache.httpcomponents#httpcore;4.4.13 in central\n",
      "\tfound commons-logging#commons-logging;1.1.3 in central\n",
      "\tfound commons-codec#commons-codec;1.11 in central\n",
      "\tfound com.microsoft.azure#azure-storage;7.0.1 in central\n",
      "\tfound com.fasterxml.jackson.core#jackson-core;2.10.5 in central\n",
      "\tfound org.slf4j#slf4j-api;1.7.30 in central\n",
      "\tfound com.microsoft.azure#azure-keyvault-core;1.0.0 in central\n",
      "\tfound com.google.guava#guava;27.0-jre in central\n",
      "\tfound com.google.guava#failureaccess;1.0 in central\n",
      "\tfound com.google.guava#listenablefuture;9999.0-empty-to-avoid-conflict-with-guava in central\n",
      "\tfound com.google.code.findbugs#jsr305;3.0.2 in central\n",
      "\tfound org.checkerframework#checker-qual;2.5.2 in central\n",
      "\tfound com.google.errorprone#error_prone_annotations;2.2.0 in central\n",
      "\tfound com.google.j2objc#j2objc-annotations;1.1 in central\n",
      "\tfound org.codehaus.mojo#animal-sniffer-annotations;1.17 in central\n",
      "\tfound org.apache.hadoop.thirdparty#hadoop-shaded-guava;1.1.1 in central\n",
      "\tfound org.eclipse.jetty#jetty-util-ajax;9.4.40.v20210413 in central\n",
      "\tfound org.eclipse.jetty#jetty-util;9.4.40.v20210413 in central\n",
      "\tfound org.codehaus.jackson#jackson-mapper-asl;1.9.13 in central\n",
      "\tfound org.codehaus.jackson#jackson-core-asl;1.9.13 in central\n",
      "\tfound org.wildfly.openssl#wildfly-openssl;1.0.7.Final in central\n",
      ":: resolution report :: resolve 705ms :: artifacts dl 25ms\n",
      "\t:: modules in use:\n",
      "\tcom.fasterxml.jackson.core#jackson-core;2.10.5 from central in [default]\n",
      "\tcom.google.code.findbugs#jsr305;3.0.2 from central in [default]\n",
      "\tcom.google.errorprone#error_prone_annotations;2.2.0 from central in [default]\n",
      "\tcom.google.guava#failureaccess;1.0 from central in [default]\n",
      "\tcom.google.guava#guava;27.0-jre from central in [default]\n",
      "\tcom.google.guava#listenablefuture;9999.0-empty-to-avoid-conflict-with-guava from central in [default]\n",
      "\tcom.google.j2objc#j2objc-annotations;1.1 from central in [default]\n",
      "\tcom.microsoft.azure#azure-keyvault-core;1.0.0 from central in [default]\n",
      "\tcom.microsoft.azure#azure-storage;7.0.1 from central in [default]\n",
      "\tcommons-codec#commons-codec;1.11 from central in [default]\n",
      "\tcommons-logging#commons-logging;1.1.3 from central in [default]\n",
      "\torg.apache.hadoop#hadoop-azure;3.3.1 from central in [default]\n",
      "\torg.apache.hadoop.thirdparty#hadoop-shaded-guava;1.1.1 from central in [default]\n",
      "\torg.apache.httpcomponents#httpclient;4.5.13 from central in [default]\n",
      "\torg.apache.httpcomponents#httpcore;4.4.13 from central in [default]\n",
      "\torg.checkerframework#checker-qual;2.5.2 from central in [default]\n",
      "\torg.codehaus.jackson#jackson-core-asl;1.9.13 from central in [default]\n",
      "\torg.codehaus.jackson#jackson-mapper-asl;1.9.13 from central in [default]\n",
      "\torg.codehaus.mojo#animal-sniffer-annotations;1.17 from central in [default]\n",
      "\torg.eclipse.jetty#jetty-util;9.4.40.v20210413 from central in [default]\n",
      "\torg.eclipse.jetty#jetty-util-ajax;9.4.40.v20210413 from central in [default]\n",
      "\torg.slf4j#slf4j-api;1.7.30 from central in [default]\n",
      "\torg.wildfly.openssl#wildfly-openssl;1.0.7.Final from central in [default]\n",
      "\t---------------------------------------------------------------------\n",
      "\t|                  |            modules            ||   artifacts   |\n",
      "\t|       conf       | number| search|dwnlded|evicted|| number|dwnlded|\n",
      "\t---------------------------------------------------------------------\n",
      "\t|      default     |   23  |   0   |   0   |   0   ||   23  |   0   |\n",
      "\t---------------------------------------------------------------------\n",
      ":: retrieving :: org.apache.spark#spark-submit-parent-7a4903a6-7253-409b-a20e-69332ee7eac1\n",
      "\tconfs: [default]\n",
      "\t0 artifacts copied, 23 already retrieved (0kB/18ms)\n",
      "22/01/16 23:42:38 WARN NativeCodeLoader: Unable to load native-hadoop library for your platform... using builtin-java classes where applicable\n",
      "Using Spark's default log4j profile: org/apache/spark/log4j-defaults.properties\n",
      "Setting default log level to \"WARN\".\n",
      "To adjust logging level use sc.setLogLevel(newLevel). For SparkR, use setLogLevel(newLevel).\n"
     ]
    }
   ],
   "source": [
    "from pyspark.sql import SparkSession, SQLContext\n",
    "from pyspark.conf import SparkConf\n",
    "spark = SparkSession.builder\\\n",
    "        .config('spark.jars.packages', 'org.apache.hadoop:hadoop-azure:3.3.1')\\\n",
    "        .getOrCreate()"
   ]
  },
  {
   "cell_type": "code",
   "execution_count": 2,
   "id": "ae68956f-a1ce-438e-b994-369fa2c4cc92",
   "metadata": {},
   "outputs": [],
   "source": [
    "azure_application_id = \"4413f43e-1232-47a3-b0dd-b224a5189b30\"\n",
    "azure_application_secret = \"<secret>\"\n",
    "azure_ad_id = \"2fd0bd59-1136-48e1-884a-0938d52022ce\"\n",
    "\n",
    "container_name = \"adzd-adl-data\"\n",
    "storage_account_name = \"adzdadl\"\n",
    "mount_path = \"/mnt/azuredata\"\n",
    "\n",
    "spark.conf.set(f\"fs.azure.account.auth.type.{storage_account_name}.dfs.core.windows.net\", \"OAuth\")\n",
    "spark.conf.set(f\"fs.azure.account.oauth.provider.type.{storage_account_name}.dfs.core.windows.net\", \"org.apache.hadoop.fs.azurebfs.oauth2.ClientCredsTokenProvider\")\n",
    "spark.conf.set(f\"fs.azure.account.oauth2.client.id.{storage_account_name}.dfs.core.windows.net\", azure_application_id)\n",
    "spark.conf.set(f\"fs.azure.account.oauth2.client.secret.{storage_account_name}.dfs.core.windows.net\", azure_application_secret)\n",
    "spark.conf.set(f\"fs.azure.account.oauth2.client.endpoint.{storage_account_name}.dfs.core.windows.net\", f\"https://login.microsoftonline.com/{azure_ad_id}/oauth2/token\")"
   ]
  },
  {
   "cell_type": "code",
   "execution_count": 3,
   "id": "bb235325-0460-4146-a90d-9fa2667f17c5",
   "metadata": {},
   "outputs": [],
   "source": [
    "file_path = \"2014-01-14.ndjson\"\n",
    "single_file_url = f\"abfss://{container_name}@{storage_account_name}.dfs.core.windows.net/{file_path}\"\n",
    "all_files_url = f\"abfss://{container_name}@{storage_account_name}.dfs.core.windows.net/\""
   ]
  },
  {
   "cell_type": "code",
   "execution_count": 4,
   "id": "26bda0f9-06e1-4042-9f1d-7061e18d292e",
   "metadata": {},
   "outputs": [],
   "source": [
    "import time\n",
    "\n",
    "def time_measure(f):\n",
    "    def timed(*args, **kw):\n",
    "        ts = time.time()\n",
    "        result = f(*args, **kw)\n",
    "        te = time.time()\n",
    "        \n",
    "        print('func:%r %r took %2.4f sec' % (f.__name__, args, te-ts))\n",
    "        return result\n",
    "    return timed"
   ]
  },
  {
   "cell_type": "code",
   "execution_count": 5,
   "id": "d0b49d82-1efd-4202-8041-1fbf6fd7b2c2",
   "metadata": {},
   "outputs": [],
   "source": [
    "@time_measure\n",
    "def load_file(url):\n",
    "    return spark.read.json(url)\n",
    "\n",
    "@time_measure\n",
    "def process_file(url):\n",
    "    return spark.read.json(url)\\\n",
    "        .groupBy([\"country\", \"parameter\"])\\\n",
    "        .avg(\"value\")\\\n",
    "        .collect()"
   ]
  },
  {
   "cell_type": "code",
   "execution_count": 6,
   "id": "955a980d-a2cf-4034-8c0f-89e269f19c83",
   "metadata": {},
   "outputs": [
    {
     "name": "stderr",
     "output_type": "stream",
     "text": [
      "                                                                                \r"
     ]
    },
    {
     "name": "stdout",
     "output_type": "stream",
     "text": [
      "func:'load_file' ('abfss://adzd-adl-data@adzdadl.dfs.core.windows.net/2014-01-14.ndjson',) took 5.9749 sec\n"
     ]
    },
    {
     "data": {
      "text/plain": [
       "DataFrame[attribution: array<struct<name:string,url:string>>, averagingPeriod: struct<unit:string,value:bigint>, city: string, coordinates: struct<latitude:double,longitude:double>, country: string, date: struct<local:string,utc:string>, location: string, mobile: boolean, parameter: string, sourceName: string, sourceType: string, unit: string, value: double]"
      ]
     },
     "execution_count": 6,
     "metadata": {},
     "output_type": "execute_result"
    }
   ],
   "source": [
    "load_file(single_file_url)"
   ]
  },
  {
   "cell_type": "code",
   "execution_count": 7,
   "id": "33ff2f50-8bd5-487c-8b0c-3591a5d9fd2f",
   "metadata": {},
   "outputs": [
    {
     "name": "stdout",
     "output_type": "stream",
     "text": [
      "func:'process_file' ('abfss://adzd-adl-data@adzdadl.dfs.core.windows.net/2014-01-14.ndjson',) took 2.4742 sec\n"
     ]
    },
    {
     "data": {
      "text/plain": [
       "[Row(country='CN', parameter='pm25', avg(value)=170.56666666666666)]"
      ]
     },
     "execution_count": 7,
     "metadata": {},
     "output_type": "execute_result"
    }
   ],
   "source": [
    "process_file(single_file_url)"
   ]
  },
  {
   "cell_type": "code",
   "execution_count": 32,
   "id": "973d0c19-46a3-47e7-a13c-bad6caf27aa5",
   "metadata": {},
   "outputs": [
    {
     "name": "stderr",
     "output_type": "stream",
     "text": [
      "[Stage 30:===================================================>    (11 + 1) / 12]\r"
     ]
    },
    {
     "name": "stdout",
     "output_type": "stream",
     "text": [
      "func:'load_file' ('abfss://adzd-adl-data@adzdadl.dfs.core.windows.net/',) took 33.9042 sec\n"
     ]
    },
    {
     "name": "stderr",
     "output_type": "stream",
     "text": [
      "                                                                                \r"
     ]
    },
    {
     "data": {
      "text/plain": [
       "DataFrame[attribution: array<struct<name:string,url:string>>, averagingPeriod: struct<unit:string,value:double>, city: string, coordinates: struct<latitude:double,longitude:double>, country: string, date: struct<local:string,utc:string>, location: string, mobile: boolean, parameter: string, sourceName: string, sourceType: string, unit: string, value: double]"
      ]
     },
     "execution_count": 32,
     "metadata": {},
     "output_type": "execute_result"
    }
   ],
   "source": [
    "load_file(all_files_url)"
   ]
  },
  {
   "cell_type": "code",
   "execution_count": 34,
   "id": "e2ec07d1-ef9e-4abd-9384-d1d055574ac1",
   "metadata": {},
   "outputs": [
    {
     "name": "stderr",
     "output_type": "stream",
     "text": [
      "[Stage 36:==============================================>         (10 + 2) / 12]\r"
     ]
    },
    {
     "name": "stdout",
     "output_type": "stream",
     "text": [
      "func:'process_file' ('abfss://adzd-adl-data@adzdadl.dfs.core.windows.net/',) took 51.1043 sec\n"
     ]
    },
    {
     "name": "stderr",
     "output_type": "stream",
     "text": [
      "                                                                                \r"
     ]
    },
    {
     "data": {
      "text/plain": [
       "[Row(country='BG', parameter='so2', avg(value)=9.879365079365082),\n",
       " Row(country='AU', parameter='so2', avg(value)=0.0010872294372294372),\n",
       " Row(country='IE', parameter='no2', avg(value)=8.439883720930231),\n",
       " Row(country='KV', parameter='pm25', avg(value)=65.28571428571429),\n",
       " Row(country='BG', parameter='no2', avg(value)=21.479666666666663),\n",
       " Row(country='BD', parameter='pm25', avg(value)=122.47619047619048),\n",
       " Row(country='FR', parameter='co', avg(value)=389.3953488372093),\n",
       " Row(country='HK', parameter='pm10', avg(value)=39.8531746031746),\n",
       " Row(country='KZ', parameter='pm25', avg(value)=2.422857142857143),\n",
       " Row(country='US', parameter='so2', avg(value)=0.0005622119815668206),\n",
       " Row(country='PE', parameter='pm25', avg(value)=16.039591836734694),\n",
       " Row(country='IT', parameter='co', avg(value)=831.9141276699031),\n",
       " Row(country='BA', parameter='pm25', avg(value)=161.72045454545457),\n",
       " Row(country='BM', parameter='pm25', avg(value)=22.0),\n",
       " Row(country='HK', parameter='no2', avg(value)=50.915079365079364),\n",
       " Row(country='CA', parameter='pm10', avg(value)=9.901639344262295),\n",
       " Row(country='US', parameter='pm25', avg(value)=9.360246699848517),\n",
       " Row(country='BG', parameter='pm10', avg(value)=25.223095238095233),\n",
       " Row(country='FR', parameter='pm10', avg(value)=27.596938065414033),\n",
       " Row(country='CZ', parameter='pm25', avg(value)=28.80141414141415),\n",
       " Row(country='FR', parameter='o3', avg(value)=19.150920634920634),\n",
       " Row(country='HR', parameter='co', avg(value)=811.7647058823529),\n",
       " Row(country='MX', parameter='pm25', avg(value)=12.273584905660377),\n",
       " Row(country='AF', parameter='pm25', avg(value)=-999.0),\n",
       " Row(country='FI', parameter='no2', avg(value)=6.762814194444445),\n",
       " Row(country='CY', parameter='so2', avg(value)=1.0345610296296297),\n",
       " Row(country='DK', parameter='pm25', avg(value)=6.531818181818181),\n",
       " Row(country='IN', parameter='pm25', avg(value)=77.29918509895226),\n",
       " Row(country='AU', parameter='pm25', avg(value)=5.199125395152791),\n",
       " Row(country='CA', parameter='o3', avg(value)=0.020818518518518493),\n",
       " Row(country='HR', parameter='o3', avg(value)=21.157777777777778),\n",
       " Row(country='BG', parameter='co', avg(value)=665.5128205128206),\n",
       " Row(country='US', parameter='pm10', avg(value)=15.989540964555491),\n",
       " Row(country='AE', parameter='pm25', avg(value)=40.35777126099707),\n",
       " Row(country='GN', parameter='pm25', avg(value)=-999.0),\n",
       " Row(country='CA', parameter='co', avg(value)=0.2510909090909091),\n",
       " Row(country='CY', parameter='no2', avg(value)=8.864085444444443),\n",
       " Row(country='ID', parameter='pm25', avg(value)=46.90988372093023),\n",
       " Row(country='IT', parameter='pm25', avg(value)=20.462965043478256),\n",
       " Row(country='GH', parameter='pm25', avg(value)=33.666666666666664),\n",
       " Row(country='CH', parameter='pm10', avg(value)=19.786844696969695),\n",
       " Row(country='GB', parameter='no2', avg(value)=30.923825281270652),\n",
       " Row(country='BR', parameter='so2', avg(value)=2.1293731778425657),\n",
       " Row(country='CZ', parameter='so2', avg(value)=9.179270072992702),\n",
       " Row(country='BG', parameter='pm25', avg(value)=28.31076923076923),\n",
       " Row(country='UG', parameter='pm25', avg(value)=60.93063583815029),\n",
       " Row(country='MG', parameter='pm25', avg(value)=39.42857142857143),\n",
       " Row(country='CO', parameter='pm10', avg(value)=34.317572711213515),\n",
       " Row(country='CZ', parameter='o3', avg(value)=29.32802197802198),\n",
       " Row(country='HK', parameter='pm25', avg(value)=29.831746031746032),\n",
       " Row(country='AR', parameter='co', avg(value)=0.17583333333333334),\n",
       " Row(country='CH', parameter='o3', avg(value)=22.24563968253968),\n",
       " Row(country='HR', parameter='pm25', avg(value)=43.455),\n",
       " Row(country='FI', parameter='so2', avg(value)=4.642227151388889),\n",
       " Row(country='HK', parameter='so2', avg(value)=4.092063492063493),\n",
       " Row(country='HK', parameter='co', avg(value)=755.9271428571428),\n",
       " Row(country='CL', parameter='pm10', avg(value)=42.47220015885623),\n",
       " Row(country='GR', parameter='co', avg(value)=480.5194805194805),\n",
       " Row(country='GR', parameter='no2', avg(value)=19.09826589595376),\n",
       " Row(country='IE', parameter='pm10', avg(value)=9.948425196850394),\n",
       " Row(country='FR', parameter='no2', avg(value)=22.48946053946056),\n",
       " Row(country='US', parameter='no2', avg(value)=0.011854131534569956),\n",
       " Row(country='MA', parameter='pm25', avg(value)=1.0),\n",
       " Row(country='MX', parameter='co', avg(value)=0.8169387755102041),\n",
       " Row(country='CY', parameter='co', avg(value)=196.59737407407408),\n",
       " Row(country='GR', parameter='pm10', avg(value)=17.228395061728396),\n",
       " Row(country='CZ', parameter='co', avg(value)=505.6457987121213),\n",
       " Row(country='DK', parameter='no2', avg(value)=9.855636363636362),\n",
       " Row(country='AD', parameter='co', avg(value)=216.66666666666666),\n",
       " Row(country='CL', parameter='so2', avg(value)=18.17882562611383),\n",
       " Row(country='CO', parameter='no2', avg(value)=0.013965271010989008),\n",
       " Row(country='AU', parameter='co', avg(value)=0.13529100529100532),\n",
       " Row(country='BR', parameter='pm10', avg(value)=21.06781391278985),\n",
       " Row(country='HU', parameter='no2', avg(value)=25.330340717916666),\n",
       " Row(country='HU', parameter='pm25', avg(value)=27.183916895238095),\n",
       " Row(country='GB', parameter='so2', avg(value)=2.5924390243902438),\n",
       " Row(country='CI', parameter='pm25', avg(value)=33.42857142857143),\n",
       " Row(country='CA', parameter='no2', avg(value)=0.006545454545454547),\n",
       " Row(country='CH', parameter='co', avg(value)=332.64761904761906),\n",
       " Row(country='VM', parameter='pm25', avg(value)=64.18181818181819),\n",
       " Row(country='ES', parameter='co', avg(value)=323.2390438247012),\n",
       " Row(country='GR', parameter='pm25', avg(value)=11.375),\n",
       " Row(country='HU', parameter='so2', avg(value)=3.271179642016807),\n",
       " Row(country='IT', parameter='pm10', avg(value)=27.84704417910446),\n",
       " Row(country='BH', parameter='pm25', avg(value)=81.05952380952381),\n",
       " Row(country='MX', parameter='pm10', avg(value)=58.70175438596491),\n",
       " Row(country='HR', parameter='no2', avg(value)=19.997333333333334),\n",
       " Row(country='DK', parameter='o3', avg(value)=38.6415909090909),\n",
       " Row(country='FI', parameter='o3', avg(value)=64.04538090000001),\n",
       " Row(country='MX', parameter='o3', avg(value)=0.019128571428571432),\n",
       " Row(country='AR', parameter='no2', avg(value)=0.0039444444444444475),\n",
       " Row(country='UZ', parameter='pm25', avg(value)=23.734104046242773),\n",
       " Row(country='CZ', parameter='pm10', avg(value)=35.31494396014944),\n",
       " Row(country='KU', parameter='pm25', avg(value)=10.8),\n",
       " Row(country='CH', parameter='no2', avg(value)=26.586140310077514),\n",
       " Row(country='CN', parameter='pm25', avg(value)=36.645370370370365),\n",
       " Row(country='ET', parameter='pm25', avg(value)=-467.8862973760933),\n",
       " Row(country='PK', parameter='pm25', avg(value)=-315.41272189349115),\n",
       " Row(country='TI', parameter='pm25', avg(value)=10.4),\n",
       " Row(country='DK', parameter='co', avg(value)=210.36363636363637),\n",
       " Row(country='FI', parameter='pm10', avg(value)=4.16739129797619),\n",
       " Row(country='HU', parameter='pm10', avg(value)=35.30612656294821),\n",
       " Row(country='NP', parameter='o3', avg(value)=-0.025063953488372082),\n",
       " Row(country='AG', parameter='pm25', avg(value)=27.571428571428573),\n",
       " Row(country='CW', parameter='pm25', avg(value)=-999.0),\n",
       " Row(country='CR', parameter='pm25', avg(value)=-60.38690476190476),\n",
       " Row(country='IE', parameter='o3', avg(value)=47.49983333333333),\n",
       " Row(country='US', parameter='bc', avg(value)=0.7244927536231884),\n",
       " Row(country='AD', parameter='o3', avg(value)=44.583333333333336),\n",
       " Row(country='CO', parameter='so2', avg(value)=0.0031876433296703297),\n",
       " Row(country='KG', parameter='pm25', avg(value)=28.040462427745666),\n",
       " Row(country='ES', parameter='o3', avg(value)=40.23161793372319),\n",
       " Row(country='GR', parameter='so2', avg(value)=9.363636363636363),\n",
       " Row(country='US', parameter='o3', avg(value)=0.022533984228313913),\n",
       " Row(country='NP', parameter='pm25', avg(value)=64.98823529411764),\n",
       " Row(country='DZ', parameter='pm25', avg(value)=22.083333333333332),\n",
       " Row(country='IT', parameter='no2', avg(value)=26.780672027807483),\n",
       " Row(country='FI', parameter='pm25', avg(value)=2.9571766130769235),\n",
       " Row(country='US', parameter='co', avg(value)=0.376033810143043),\n",
       " Row(country='GB', parameter='o3', avg(value)=23.846824887748564),\n",
       " Row(country='SU', parameter='pm25', avg(value)=20.0),\n",
       " Row(country='FR', parameter='so2', avg(value)=2.1436734693877546),\n",
       " Row(country='BG', parameter='o3', avg(value)=32.462250000000004),\n",
       " Row(country='HR', parameter='so2', avg(value)=6.156787878787879),\n",
       " Row(country='GB', parameter='pm25', avg(value)=21.27323462414578),\n",
       " Row(country='AD', parameter='so2', avg(value)=1.6666666666666667),\n",
       " Row(country='CO', parameter='co', avg(value)=0.9160499548872181),\n",
       " Row(country='AR', parameter='pm10', avg(value)=56.166666666666664),\n",
       " Row(country='ES', parameter='pm10', avg(value)=41.365296875),\n",
       " Row(country='CA', parameter='pm25', avg(value)=7.110984848484849),\n",
       " Row(country='CO', parameter='pm25', avg(value)=15.819526343926338),\n",
       " Row(country='CO', parameter='o3', avg(value)=0.010890193557442562),\n",
       " Row(country='HR', parameter='pm10', avg(value)=44.10571428571428),\n",
       " Row(country='IT', parameter='so2', avg(value)=1.857406780923016),\n",
       " Row(country='CH', parameter='so2', avg(value)=1.8372871794871795),\n",
       " Row(country='BR', parameter='o3', avg(value)=49.88227590221187),\n",
       " Row(country='IQ', parameter='pm25', avg(value)=-999.0),\n",
       " Row(country='CH', parameter='pm25', avg(value)=19.751976271186443),\n",
       " Row(country='GT', parameter='pm25', avg(value)=-999.0),\n",
       " Row(country='IT', parameter='o3', avg(value)=43.73377115740037),\n",
       " Row(country='CL', parameter='pm25', avg(value)=18.724336793540946),\n",
       " Row(country='BR', parameter='pm25', avg(value)=12.627906976744185),\n",
       " Row(country='CY', parameter='o3', avg(value)=66.36122185185187),\n",
       " Row(country='CZ', parameter='no2', avg(value)=19.378173076923083),\n",
       " Row(country='IE', parameter='so2', avg(value)=2.709375),\n",
       " Row(country='AU', parameter='pm10', avg(value)=18.296634199134196),\n",
       " Row(country='IE', parameter='co', avg(value)=77.08333333333333),\n",
       " Row(country='AU', parameter='o3', avg(value)=0.02653395784543325),\n",
       " Row(country='ES', parameter='pm25', avg(value)=19.68989010989011),\n",
       " Row(country='GR', parameter='o3', avg(value)=52.443708609271525),\n",
       " Row(country='ES', parameter='so2', avg(value)=3.96465166130761),\n",
       " Row(country='FR', parameter='pm25', avg(value)=24.900000000000002),\n",
       " Row(country='IE', parameter='pm25', avg(value)=8.275802469135803),\n",
       " Row(country='AD', parameter='pm10', avg(value)=28.0),\n",
       " Row(country='AU', parameter='no2', avg(value)=0.004259868421052633),\n",
       " Row(country='DK', parameter='pm10', avg(value)=10.357575757575757),\n",
       " Row(country='AD', parameter='no2', avg(value)=57.0),\n",
       " Row(country='BR', parameter='no2', avg(value)=16.779729235272594),\n",
       " Row(country='MX', parameter='so2', avg(value)=0.005979591836734695),\n",
       " Row(country='ES', parameter='no2', avg(value)=16.58389124893798),\n",
       " Row(country='GB', parameter='pm10', avg(value)=23.69742388758781),\n",
       " Row(country='BK', parameter='pm25', avg(value)=144.28571428571428),\n",
       " Row(country='CA', parameter='so2', avg(value)=0.000685082872928177),\n",
       " Row(country='DK', parameter='so2', avg(value)=0.32636363636363636),\n",
       " Row(country='HU', parameter='o3', avg(value)=15.13926879175824),\n",
       " Row(country='HK', parameter='o3', avg(value)=95.98571428571428),\n",
       " Row(country='AT', parameter='pm10', avg(value)=25.38077178143158),\n",
       " Row(country='BA', parameter='no2', avg(value)=19.5),\n",
       " Row(country='AT', parameter='pm25', avg(value)=23.375319839343067),\n",
       " Row(country='AT', parameter='no2', avg(value)=23.447839579447518),\n",
       " Row(country='JO', parameter='pm25', avg(value)=-999.0),\n",
       " Row(country='BA', parameter='co', avg(value)=1008.0),\n",
       " Row(country='AT', parameter='so2', avg(value)=1.9793978597119335),\n",
       " Row(country='AT', parameter='o3', avg(value)=29.120070938215097),\n",
       " Row(country='BA', parameter='so2', avg(value)=73.72),\n",
       " Row(country='AT', parameter='co', avg(value)=562.770042254902),\n",
       " Row(country='GB', parameter='co', avg(value)=154.23728813559322),\n",
       " Row(country='BA', parameter='o3', avg(value)=39.82),\n",
       " Row(country='BR', parameter='co', avg(value)=0.4270931730356381),\n",
       " Row(country='MX', parameter='no2', avg(value)=0.037),\n",
       " Row(country='CS', parameter='pm25', avg(value)=12.0),\n",
       " Row(country='NO', parameter='co', avg(value)=458.87128571428576),\n",
       " Row(country='RO', parameter='pm25', avg(value)=26.60277544487179),\n",
       " Row(country='RS', parameter='pm10', avg(value)=77.20296876923076),\n",
       " Row(country='RS', parameter='so2', avg(value)=16.800024266055047),\n",
       " Row(country='RS', parameter='co', avg(value)=1205.770311111111),\n",
       " Row(country='TR', parameter='no2', avg(value)=28.532024965325938),\n",
       " Row(country='RO', parameter='no2', avg(value)=20.38765032674495),\n",
       " Row(country='PT', parameter='so2', avg(value)=7.514885114885112),\n",
       " Row(country='PL', parameter='pm10', avg(value)=38.47331170360988),\n",
       " Row(country='TR', parameter='co', avg(value)=785.7743665768195),\n",
       " Row(country='MT', parameter='pm25', avg(value)=14.358115384615385),\n",
       " Row(country='NL', parameter='co', avg(value)=-142.46716428571432),\n",
       " Row(country='SE', parameter='pm25', avg(value)=5.322571903091788),\n",
       " Row(country='MT', parameter='so2', avg(value)=1.8054108695652176),\n",
       " Row(country='NL', parameter='so2', avg(value)=-325.4361224489796),\n",
       " Row(country='ZA', parameter='pm10', avg(value)=17.52792631578947),\n",
       " Row(country='PE', parameter='so2', avg(value)=1.857225806451613),\n",
       " Row(country='SK', parameter='no2', avg(value)=18.018205682758627),\n",
       " Row(country='TH', parameter='pm10', avg(value)=58.748998664886514),\n",
       " Row(country='MK', parameter='co', avg(value)=599.2983174025975),\n",
       " Row(country='PL', parameter='bc', avg(value)=1.7963689764868596),\n",
       " Row(country='MT', parameter='pm10', avg(value)=37.2244347826087),\n",
       " Row(country='PL', parameter='pm25', avg(value)=31.70394751619871),\n",
       " Row(country='XK', parameter='co', avg(value)=303.1666666666667),\n",
       " Row(country='XK', parameter='o3', avg(value)=60.73071428571429),\n",
       " Row(country='MM', parameter='pm25', avg(value)=38.36309523809524),\n",
       " Row(country='PT', parameter='no2', avg(value)=20.52047812359041),\n",
       " Row(country='NL', parameter='o3', avg(value)=-24.52809523809525),\n",
       " Row(country='PT', parameter='pm10', avg(value)=23.818257261410803),\n",
       " Row(country='TD', parameter='pm25', avg(value)=-999.0),\n",
       " Row(country='VN', parameter='pm25', avg(value)=62.723214285714285),\n",
       " Row(country='SE', parameter='no2', avg(value)=9.698119895104897),\n",
       " Row(country='PL', parameter='o3', avg(value)=41.745445685740236),\n",
       " Row(country='SK', parameter='so2', avg(value)=9.148546719101121),\n",
       " Row(country='PT', parameter='co', avg(value)=431.98073555166377),\n",
       " Row(country='TH', parameter='pm25', avg(value)=34.05917159763314),\n",
       " Row(country='XK', parameter='pm10', avg(value)=22.719875000000002),\n",
       " Row(country='NL', parameter='pm25', avg(value)=-60.67965677018635),\n",
       " Row(country='MK', parameter='no2', avg(value)=19.460356574545457),\n",
       " Row(country='ZA', parameter='so2', avg(value)=0.006377570048309179),\n",
       " Row(country='NO', parameter='o3', avg(value)=46.1230608382353),\n",
       " Row(country='MN', parameter='pm10', avg(value)=187.33333333333334),\n",
       " Row(country='PL', parameter='no2', avg(value)=13.93426180052494),\n",
       " Row(country='LU', parameter='pm10', avg(value)=28.625),\n",
       " Row(country='RS', parameter='o3', avg(value)=30.491188363636358),\n",
       " Row(country='MN', parameter='so2', avg(value)=622.4551724137931),\n",
       " Row(country='MK', parameter='pm25', avg(value)=25.938181818181818),\n",
       " Row(country='SK', parameter='co', avg(value)=724.5435641025641),\n",
       " Row(country='RO', parameter='pm10', avg(value)=33.24804923288462),\n",
       " Row(country='LU', parameter='co', avg(value)=421.6666666666667),\n",
       " Row(country='PL', parameter='so2', avg(value)=9.953976725821592),\n",
       " Row(country='MT', parameter='no2', avg(value)=36.04608388888889),\n",
       " Row(country='TJ', parameter='pm25', avg(value)=20.11904761904762),\n",
       " Row(country='SK', parameter='pm25', avg(value)=26.225168181818173),\n",
       " Row(country='LU', parameter='so2', avg(value)=6.477777777777778),\n",
       " Row(country='TR', parameter='o3', avg(value)=50.72627634660422),\n",
       " Row(country='NL', parameter='pm10', avg(value)=-41.119653679653666),\n",
       " Row(country='RO', parameter='so2', avg(value)=13.623506613636364),\n",
       " Row(country='MK', parameter='o3', avg(value)=24.66675402597403),\n",
       " Row(country='RS', parameter='pm25', avg(value)=73.70084923076922),\n",
       " Row(country='TH', parameter='o3', avg(value)=0.047775257731958745),\n",
       " Row(country='NO', parameter='pm10', avg(value)=16.512901264423075),\n",
       " Row(country='RO', parameter='o3', avg(value)=37.24634002196116),\n",
       " Row(country='PT', parameter='pm25', avg(value)=9.718383060635233),\n",
       " Row(country='SE', parameter='pm10', avg(value)=7.13621412570866),\n",
       " Row(country='MK', parameter='so2', avg(value)=1.9176664786754967),\n",
       " Row(country='ZA', parameter='no2', avg(value)=-0.0022574619883040958),\n",
       " Row(country='PE', parameter='co', avg(value)=609.2248214285713),\n",
       " Row(country='SE', parameter='co', avg(value)=319.8595),\n",
       " Row(country='SK', parameter='o3', avg(value)=34.33631951219512),\n",
       " Row(country='LA', parameter='pm25', avg(value)=-999.0),\n",
       " Row(country='SK', parameter='pm10', avg(value)=34.958455050505066),\n",
       " Row(country='MN', parameter='pm25', avg(value)=178.22619047619048),\n",
       " Row(country='XK', parameter='no2', avg(value)=16.8255),\n",
       " Row(country='MM', parameter='o3', avg(value)=0.01762500000000001),\n",
       " Row(country='NO', parameter='so2', avg(value)=4.4083020571428575),\n",
       " Row(country='NL', parameter='no2', avg(value)=-47.535634920634934),\n",
       " Row(country='MN', parameter='no2', avg(value)=36.74829931972789),\n",
       " Row(country='LU', parameter='no2', avg(value)=23.144444444444446),\n",
       " Row(country='TR', parameter='pm10', avg(value)=33.57375474083439),\n",
       " Row(country='PL', parameter='co', avg(value)=483.1073275782967),\n",
       " Row(country='KW', parameter='pm25', avg(value)=9.875),\n",
       " Row(country='LU', parameter='pm25', avg(value)=21.875),\n",
       " Row(country='MT', parameter='co', avg(value)=1012.2123076923077),\n",
       " Row(country='LU', parameter='o3', avg(value)=9.466666666666667),\n",
       " Row(country='ZA', parameter='o3', avg(value)=0.018045155419222907),\n",
       " Row(country='NO', parameter='pm25', avg(value)=13.423179616438357),\n",
       " Row(country='TR', parameter='so2', avg(value)=18.64363881401617),\n",
       " Row(country='RS', parameter='no2', avg(value)=31.28037576923077),\n",
       " Row(country='SA', parameter='pm25', avg(value)=34.125),\n",
       " Row(country='SI', parameter='pm10', avg(value)=47.41428571428571),\n",
       " Row(country='PE', parameter='pm10', avg(value)=23.185981735159814),\n",
       " Row(country='SE', parameter='o3', avg(value)=50.20135701357467),\n",
       " Row(country='SD', parameter='pm25', avg(value)=-482.875),\n",
       " Row(country='PE', parameter='no2', avg(value)=14.263979591836735),\n",
       " Row(country='TH', parameter='so2', avg(value)=0.0029561128526645777),\n",
       " Row(country='MK', parameter='pm10', avg(value)=49.9670025974026),\n",
       " Row(country='XK', parameter='pm25', avg(value)=58.97841964285715),\n",
       " Row(country='ML', parameter='pm25', avg(value)=-999.0),\n",
       " Row(country='NO', parameter='no2', avg(value)=18.04082979598662),\n",
       " Row(country='TH', parameter='co', avg(value)=0.5166031746031746),\n",
       " Row(country='PT', parameter='o3', avg(value)=48.43722054380664),\n",
       " Row(country='PE', parameter='o3', avg(value)=2.4191428571428566),\n",
       " Row(country='TM', parameter='pm25', avg(value)=-999.0),\n",
       " Row(country='XK', parameter='so2', avg(value)=17.928333333333335),\n",
       " Row(country='LK', parameter='pm25', avg(value)=-999.0),\n",
       " Row(country='ZA', parameter='pm25', avg(value)=9.962457564575645),\n",
       " Row(country='MT', parameter='o3', avg(value)=37.06386472222222),\n",
       " Row(country='TH', parameter='no2', avg(value)=0.007614285714285718),\n",
       " Row(country='ZA', parameter='co', avg(value)=0.5468097014925372),\n",
       " Row(country='SE', parameter='so2', avg(value)=1.1278),\n",
       " Row(country='LT', parameter='no2', avg(value)=16.25625),\n",
       " Row(country='LT', parameter='so2', avg(value)=8.24878974),\n",
       " Row(country='LT', parameter='pm10', avg(value)=12.14999961)]"
      ]
     },
     "execution_count": 34,
     "metadata": {},
     "output_type": "execute_result"
    }
   ],
   "source": [
    "process_file(all_files_url)"
   ]
  },
  {
   "cell_type": "code",
   "execution_count": null,
   "id": "32537f5c-066a-410b-9a25-38c83be84ae5",
   "metadata": {},
   "outputs": [],
   "source": []
  }
 ],
 "metadata": {
  "kernelspec": {
   "display_name": "Python 3 (ipykernel)",
   "language": "python",
   "name": "python3"
  },
  "language_info": {
   "codemirror_mode": {
    "name": "ipython",
    "version": 3
   },
   "file_extension": ".py",
   "mimetype": "text/x-python",
   "name": "python",
   "nbconvert_exporter": "python",
   "pygments_lexer": "ipython3",
   "version": "3.9.7"
  }
 },
 "nbformat": 4,
 "nbformat_minor": 5
}
